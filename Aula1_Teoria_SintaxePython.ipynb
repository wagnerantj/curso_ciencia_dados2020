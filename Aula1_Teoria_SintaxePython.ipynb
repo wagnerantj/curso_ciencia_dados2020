{
 "cells": [
  {
   "cell_type": "markdown",
   "metadata": {},
   "source": [
    "# Aula 1 - Explicações sobre a sintaxe da linguagem Python"
   ]
  },
  {
   "cell_type": "markdown",
   "metadata": {},
   "source": [
    "### Dois pontos sinaliza o início de uma sentença composta\n",
    "#### O conteúdo das sentenças compostas é aninhado com espaços/tabs, sem chaves"
   ]
  },
  {
   "cell_type": "code",
   "execution_count": 1,
   "metadata": {},
   "outputs": [
    {
     "name": "stdout",
     "output_type": "stream",
     "text": [
      "3\n",
      "x maior que zero\n"
     ]
    }
   ],
   "source": [
    "# 1) Criar uma sentença composta (if else)\n",
    "# 2) Mostrar aninhamento com tabulação\n",
    "# 3) ; é opcional\n",
    "# 4) imprimir valores dentro do if else como feedback\n",
    "x = 2\n",
    "if x > 0:\n",
    "      # adiciona 1 a x\n",
    "      x = x + 1;  # Ponto e virgula para finalizar uma sentença é opcional\n",
    "      print(x)\n",
    "      print('x maior que zero')\n",
    "else:\n",
    "      print('x menor ou igual a zero')\n"
   ]
  },
  {
   "cell_type": "markdown",
   "metadata": {},
   "source": [
    "### Referências para objetos não possuem um tipo associado\n",
    "#### Não há problema em reatribuir uma referência a outro tipo"
   ]
  },
  {
   "cell_type": "code",
   "execution_count": 8,
   "metadata": {},
   "outputs": [
    {
     "name": "stdout",
     "output_type": "stream",
     "text": [
      "<type 'int'>\n",
      "<type 'str'>\n"
     ]
    }
   ],
   "source": [
    "# 1) Atribuir um número a uma variável, \n",
    "# e em sequencia atribuir um conteúdo de tipo diferente à mesma variável\n",
    "# 2) imprimir os tipos da variável como feedback\n",
    "x=2\n",
    "print(type(x))\n",
    "x='carro'\n",
    "print(type(x))"
   ]
  },
  {
   "cell_type": "markdown",
   "metadata": {},
   "source": [
    "### Funções são declaradas com a palavra-chave def\n",
    "### Argumentos são passados por referência, e não por valor na chamada de funções"
   ]
  },
  {
   "cell_type": "code",
   "execution_count": 8,
   "metadata": {},
   "outputs": [
    {
     "name": "stdout",
     "output_type": "stream",
     "text": [
      "[2, 1]\n"
     ]
    }
   ],
   "source": [
    "# 1) criar uma função qualquer (por exemplo, insert_1)\n",
    "# 2) aplicar a função a uma variável\n",
    "# 3) mostrar que os argumentos são passados por referência para objetos\n",
    "def insert_1(a): # A função não retorna nenhum objeto\n",
    "    a.append(1) # O objeto apontado pela referência a foi alterado\n",
    "\n",
    "b = [2]\n",
    "insert_1(b)\n",
    "print(b)\n"
   ]
  },
  {
   "cell_type": "markdown",
   "metadata": {},
   "source": [
    "### Formando uma string"
   ]
  },
  {
   "cell_type": "code",
   "execution_count": 1,
   "metadata": {},
   "outputs": [
    {
     "name": "stdout",
     "output_type": "stream",
     "text": [
      "a=0, b=1\n"
     ]
    }
   ],
   "source": [
    "# 1) Criar uma string a partir de parâmetros\n",
    "\n",
    "a = 4.5\n",
    "b = 2\n",
    "frase = f'a={0}, b={1}'\n",
    "print(frase)"
   ]
  },
  {
   "cell_type": "markdown",
   "metadata": {},
   "source": [
    "### Imports\n",
    "#### Um módulo é um arquivo de extensão .py. Útil para reusabilidade de código."
   ]
  },
  {
   "cell_type": "code",
   "execution_count": null,
   "metadata": {},
   "outputs": [],
   "source": []
  },
  {
   "cell_type": "code",
   "execution_count": 2,
   "metadata": {
    "scrolled": true
   },
   "outputs": [],
   "source": [
    "import os\n",
    "import sys\n",
    "module_path = os.path.abspath('.')\n",
    "sys.path.append(module_path)"
   ]
  },
  {
   "cell_type": "code",
   "execution_count": 3,
   "metadata": {},
   "outputs": [
    {
     "name": "stdout",
     "output_type": "stream",
     "text": [
      "[2, 1]\n"
     ]
    }
   ],
   "source": [
    "# O arquivo modulo_exemplo.py está no diretório Aula1/modulos\n",
    "# 1) Importar a função insert1 do modulo_exemplo.py\n",
    "# 2) Aplicar a fórmula insert1 e imprimir o resultado\n",
    "\n",
    "from modulos.modulo_exemplo import insert1\n",
    "b = [2]\n",
    "insert1(b)\n",
    "print(b)"
   ]
  },
  {
   "cell_type": "code",
   "execution_count": 12,
   "metadata": {},
   "outputs": [
    {
     "name": "stdout",
     "output_type": "stream",
     "text": [
      "C:\\Users\\alex\\Google Drive\\Aulas\\Enap\\BootcampTI2020\\Modulo2\\AnaliseDeDados_Teste1\\Aulas\\notebook\\Aula1\n"
     ]
    }
   ],
   "source": [
    "# O módulo \"os\" fornece vários métodos para manipulação de arquivos e diretórios.\n",
    "# O método getcwd (get current work directory) retorna o diretório corrente\n",
    "# 1) Importar o módulo os\n",
    "# 2) Imprimir o diretorio de trabalho (diretorio corrente)\n",
    "\n",
    "import os\n",
    "print(os.getcwd())"
   ]
  },
  {
   "cell_type": "markdown",
   "metadata": {},
   "source": [
    "### Conversão de Tipos\n",
    "#### str, bool, int, e float também são funções para converter valores para esses tipos"
   ]
  },
  {
   "cell_type": "code",
   "execution_count": 13,
   "metadata": {},
   "outputs": [
    {
     "name": "stdout",
     "output_type": "stream",
     "text": [
      "3.14159\n",
      "3\n"
     ]
    }
   ],
   "source": [
    "# 1) Criar uma variavel do tipo string\n",
    "# 2) Converte-la para float\n",
    "# 3) Converter o float resultante para int\n",
    "s = '3.14159'\n",
    "fval = float(s)\n",
    "ival = int(fval)\n",
    "print(fval)\n",
    "print(ival)"
   ]
  },
  {
   "cell_type": "markdown",
   "metadata": {},
   "source": [
    "### Laços (loops) do tipo for\n",
    "#### Uma maneira de iterar sobre uma coleção. Usa-se o keyword *in* para referenciar a coleção."
   ]
  },
  {
   "cell_type": "code",
   "execution_count": 14,
   "metadata": {},
   "outputs": [
    {
     "name": "stdout",
     "output_type": "stream",
     "text": [
      "13\n"
     ]
    }
   ],
   "source": [
    "# 1) Criar uma sequencia de números inteiros contendo o numero 5 em alguma posição\n",
    "# 2) Fazer um laço para ler os valores de forma sequencial e somá-los até encontrar \n",
    "#     o número 5. Não incluir o número 5 na soma.\n",
    "# 3) Imprimir o valor da soma\n",
    "\n",
    "# val foi um termo escolhido pelo programador\n",
    "\n",
    "sequence = [1, 2, 0, 4, 6, 5, 2, 1]\n",
    "total_until_5 = 0\n",
    "for val in sequence:\n",
    "    if val == 5:\n",
    "        break  # Interrompe um laço/loop/iteração\n",
    "    total_until_5 += val\n",
    "print(total_until_5)"
   ]
  },
  {
   "cell_type": "markdown",
   "metadata": {},
   "source": [
    "# Estrutura de Dados em Python"
   ]
  },
  {
   "cell_type": "markdown",
   "metadata": {},
   "source": [
    "### Lista é uma sequência de tamanho variável e conteúdo mutável (alterável)\n",
    "#### Assim como as tuplas, a lista pode conter objetos de vários tipos. Define-se uma lista com colchetes [ ]\n",
    "#### Use append para inserir elementos, pop para remover elementos pelo índice"
   ]
  },
  {
   "cell_type": "code",
   "execution_count": 5,
   "metadata": {},
   "outputs": [
    {
     "name": "stdout",
     "output_type": "stream",
     "text": [
      "[2, 4, 0, None]\n",
      "[2, 4, 0, None, 9]\n",
      "[2, 0, None, 9]\n",
      "[2, None, 9]\n"
     ]
    }
   ],
   "source": [
    "# 1) Criar uma lista com elementos de diferentes tipos. Exemplo: [2, 4, 0, None]\n",
    "# 2) Adicionar um elemento com o método append\n",
    "# 3) Remover e recuperar o elemento de índice 1\n",
    "# 4) Remover o elemento de valor 0\n",
    "\n",
    "al = [2, 4, 0, None]\n",
    "print(al)\n",
    "al.append(9)\n",
    "print(al)\n",
    "al.pop(1) # Remover pelo índice\n",
    "print(al)\n",
    "# Use remove para remover pelo valor\n",
    "al.remove(0)\n",
    "print(al)"
   ]
  },
  {
   "cell_type": "markdown",
   "metadata": {},
   "source": [
    "### Combinando Listas\n",
    "#### Use o operador + ou a função extend. A função extend é mais rápida do que o operador +"
   ]
  },
  {
   "cell_type": "code",
   "execution_count": 7,
   "metadata": {},
   "outputs": [
    {
     "name": "stdout",
     "output_type": "stream",
     "text": [
      "True\n"
     ]
    }
   ],
   "source": [
    "# 1) Criar uma lista com elementos de diferentes tipos, chamada a1. Ex.: [2, 4, 0, None]\n",
    "# 2) Criar uma nova lista, al_plus, com os elementos de duas listas usando o operador +\n",
    "# 3) Adicionar os elementos de uma outra lista à lista a1\n",
    "# 4) Comparar o conteúdo das duas listas a1 e a1_plus\n",
    "\n",
    "al = [2, 4, 0, None]\n",
    "al_plus = al + ['a', 'b']\n",
    "al.extend(['a', 'b'])\n",
    "comp = al_plus == al\n",
    "print(comp)"
   ]
  },
  {
   "cell_type": "markdown",
   "metadata": {},
   "source": [
    "### Teste de desempenho  ( curiosidade )"
   ]
  },
  {
   "cell_type": "code",
   "execution_count": 8,
   "metadata": {},
   "outputs": [
    {
     "name": "stdout",
     "output_type": "stream",
     "text": [
      "extend\n"
     ]
    }
   ],
   "source": [
    "import timeit\n",
    "print(\"extend\")\n",
    "extend_str = '''everything = []\n",
    "list_of_lists = [[1, 2, 3, 4, 5, 6, 7, 8, 9, 10] for i in range(0,1000)]\n",
    "for chunk in list_of_lists:\n",
    "    everything.extend(chunk)'''\n",
    "\n",
    "t1 = timeit.timeit(extend_str, number=100)  # number representa a qtd de vezes que vai executar o comando"
   ]
  },
  {
   "cell_type": "code",
   "execution_count": 9,
   "metadata": {},
   "outputs": [
    {
     "name": "stdout",
     "output_type": "stream",
     "text": [
      "plus\n"
     ]
    }
   ],
   "source": [
    "print(\"plus\")\n",
    "plus_str = '''import random\n",
    "everything = []\n",
    "list_of_lists = [[1, 2, 3, 4, 5, 6, 7, 8, 9, 10] for i in range(0,1000)]\n",
    "for chunk in list_of_lists:\n",
    "    everything = everything + chunk'''\n",
    "\n",
    "t2 = timeit.timeit(plus_str, number=100)  # number representa a qtd de vezes que vai executar o comando"
   ]
  },
  {
   "cell_type": "code",
   "execution_count": 10,
   "metadata": {},
   "outputs": [
    {
     "name": "stdout",
     "output_type": "stream",
     "text": [
      "0.0691249\n",
      "1.7083982\n",
      "24.7146570917\n"
     ]
    },
    {
     "data": {
      "text/plain": [
       "[0, 1, 2, 3, 4, 5, 6, 7, 8, 9]"
      ]
     },
     "execution_count": 10,
     "metadata": {},
     "output_type": "execute_result"
    }
   ],
   "source": [
    "print(t1)\n",
    "print(t2)\n",
    "print(t2/t1)"
   ]
  },
  {
   "cell_type": "markdown",
   "metadata": {},
   "source": [
    "### Slicing (fatiar)\n",
    "#### Use intervalos entre colchetes para fatiar sequências"
   ]
  },
  {
   "cell_type": "code",
   "execution_count": 1,
   "metadata": {},
   "outputs": [
    {
     "name": "stdout",
     "output_type": "stream",
     "text": [
      "[2, 4, 0]\n",
      "[2, 4, 0, 3]\n",
      "[0, 3, 7, 10, 4, 5]\n",
      "5\n",
      "[2, 0, 7, 4]\n",
      "[5, 4, 10, 7, 3, 0, 4, 2]\n",
      "[2, 8, 8, 0, 3, 7, 10, 4, 5]\n"
     ]
    }
   ],
   "source": [
    "# 1) Criar uma lista com vários elementos\n",
    "# 2) Imprimir os elementos de índice 0 a 3 (são os 4 primeiros elementos)\n",
    "# 3) Imprimir os elementos de índice 0 a 4, suprimindo o parametro esquerdo do intervalo\n",
    "# 4) Imprimir os elementos de índice 2 até o último\n",
    "# 5) Imprimir o último elemento\n",
    "# 6) Imprimir a cada dois elementos\n",
    "# 7) Imprimir os elementos espelhados/revertidos\n",
    "# 8) Atribuir uma lista a um slice (uma parte) da lista original\n",
    "\n",
    "al = [2, 4, 0, 3, 7, 10, 4, 5]\n",
    "print(al[0:3])  # De zero a 3\n",
    "print(al[:4])   # De zero a 4\n",
    "print(al[2:])   # De 2 até o último\n",
    "print(al[-1])   # O último element\n",
    "print(al[::2])  # A cada dois elementos\n",
    "print(al[::-1]) # Reverter/espelhar os elementos\n",
    "al[1:3] = [8, 8]\n",
    "print(al)"
   ]
  },
  {
   "cell_type": "markdown",
   "metadata": {},
   "source": [
    "### Dicionário (dict)\n",
    "### Uma coleção de key-value (chave-valor) de tamanho flexível\n",
    "#### O key e o value podem ser qualquer objeto python"
   ]
  },
  {
   "cell_type": "code",
   "execution_count": 4,
   "metadata": {},
   "outputs": [
    {
     "name": "stdout",
     "output_type": "stream",
     "text": [
      "{'ocup': [1, 2], 'ano': 2020, 'fabric': 3, 'tipo': 'carro', 'cor': 1}\n",
      "[1, 2]\n"
     ]
    }
   ],
   "source": [
    "# 1) Criar um dicionário com as seguintes informações de um veículo: \n",
    "#      tipo=carro, ano=2020, ocupacao= 1 e 2\n",
    "# 2) Adicionar um atributo cor=1\n",
    "# 3) Adicionar um atributo fabricante=3\n",
    "# 4) Criar um índice vazio\n",
    "# 5) Imprimir o valor da chave ocupacao\n",
    "\n",
    "empty_dict = {} # Cria um dicionário vazio\n",
    "d1 = {'tipo' : 'carro', 'ano':2020, 'ocup' : [1, 2]} # Cria um dicionário\n",
    "d1['cor'] = 1 # Cria um novo par chave-valor\n",
    "d1['fabric'] = 3 # Cria um novo par chave-valor\n",
    "print(d1)\n",
    "print(d1['ocup'])"
   ]
  },
  {
   "cell_type": "markdown",
   "metadata": {},
   "source": [
    "### Outros métodos relacionados a dicionários"
   ]
  },
  {
   "cell_type": "code",
   "execution_count": 12,
   "metadata": {},
   "outputs": [
    {
     "name": "stdout",
     "output_type": "stream",
     "text": [
      "True\n",
      "['tipo']\n",
      "{'motor': '18c', 'dono': 12, 'tipo': 'carro'}\n"
     ]
    }
   ],
   "source": [
    "# 1) Crie o seguinte dicionário: d1 = {'tipo' : 'carro', 'ano':2020, 'ocup' : [1, 2]} \n",
    "# 2) Teste se 'tipo' está dentre as chaves de d1 \n",
    "# 3) Remova o par identificado por 'ano'\n",
    "# 4) Remova o par identificado por 'ocup' e retorne o seu valor\n",
    "# 5) Imprima a lista de keys\n",
    "# 6) Adicione esses pares {'motor' : '18c', 'dono' : 12} ao dicionário\n",
    "\n",
    "d1 = {'tipo' : 'carro', 'ano':2020, 'ocup' : [1, 2]} \n",
    "print('tipo' in d1) # Testa: 'tipo' está em d1.keys()?\n",
    "del d1['ano'] # Remove o par identificado por 'ano'\n",
    "ret = d1.pop('ocup') # Remove do dict e retorna o valor\n",
    "print(list(d1.keys()))\n",
    "d1.update({'motor' : '18c', 'dono' : 12}) #atualiza\n",
    "print(d1)"
   ]
  },
  {
   "cell_type": "markdown",
   "metadata": {},
   "source": [
    "## NumPy Arrays\n",
    "### Operações vetorizadas em ndarrays\n",
    "#### Mais eficientes (preferíveis)"
   ]
  },
  {
   "cell_type": "code",
   "execution_count": 2,
   "metadata": {},
   "outputs": [
    {
     "name": "stdout",
     "output_type": "stream",
     "text": [
      "[[ 1.98840382 -0.17662144  1.0884208 ]\n",
      " [ 0.10412073 -0.16798921  0.08936444]]\n",
      "[[19.88403821 -1.76621437 10.88420803]\n",
      " [ 1.04120734 -1.67989212  0.89364438]]\n",
      "[[ 3.97680764 -0.35324287  2.17684161]\n",
      " [ 0.20824147 -0.33597842  0.17872888]]\n"
     ]
    }
   ],
   "source": [
    "# 1) Importe a biblioteca numpy e lhe dê o apelido np \n",
    "# 2) Crie um array (data) bidimensional de 2 linhas e 3 colunas de números aleatórios\n",
    "# 3) Multiplique todos os elementos do vetor por 10\n",
    "# 4) Some os elementos do array data a ele mesmo\n",
    "\n",
    "import numpy as np # Importa a biblioteca numpy e lhe dá o apelido de np \n",
    "data = np.random.randn(2, 3) # Gerar dados aleatórios. 2L x 3C\n",
    "print(data)\n",
    "print(data * 10)\n",
    "print(data + data)"
   ]
  },
  {
   "cell_type": "markdown",
   "metadata": {},
   "source": [
    "### Instruções inline (list comprehension)"
   ]
  },
  {
   "cell_type": "code",
   "execution_count": 14,
   "metadata": {},
   "outputs": [
    {
     "name": "stdout",
     "output_type": "stream",
     "text": [
      "1\n",
      "[0, 1, 2, 3, 4, 5, 6, 7, 8, 9]\n",
      "[0, 1, 4, 9, 16, 25, 36, 49, 64, 81]\n"
     ]
    }
   ],
   "source": [
    "# 1) Escreva uma instrução if else na forma inline\n",
    "# Dica - Sintaxe: valor_se_verdadeiro if condicao else valor_se_falso\n",
    "# 2) Escreva uma instrução de loop (for) na forma inline calculando [1, 4, 9 ... 100]\n",
    "# Dica - Sintaxe: [ OPERACAO_VAL for VAL in SEQUENCIA ]\n",
    "\n",
    "a = 2\n",
    "# Sintaxe: valor_se_verdadeiro if condicao else valor_se_falso\n",
    "b = 0 if a > 10 else 1  #Sintaxe: vv if cond else vf\n",
    "print(b)\n",
    "# [ OPERACAO_VAL for VAL in SEQUENCIA ]\n",
    "resultado1 = [x for x in range(10)] # list comprehension\n",
    "resultado2 = [x * x for x in range(10)]\n",
    "print(resultado1)\n",
    "print(resultado2)"
   ]
  },
  {
   "cell_type": "markdown",
   "metadata": {},
   "source": [
    "### Comparação de Desempenho: Numpy array vs list"
   ]
  },
  {
   "cell_type": "code",
   "execution_count": 18,
   "metadata": {},
   "outputs": [
    {
     "name": "stdout",
     "output_type": "stream",
     "text": [
      "Wall time: 23 ms\n",
      "Wall time: 1.27 s\n",
      "[2 4 6 8]\n",
      "[2, 4, 6, 8]\n"
     ]
    }
   ],
   "source": [
    "# 1) Crie um numpy array com 10 milhoes de numeros sequenciais\n",
    "# 2) Crie uma lista 10 milhoes de numeros sequenciais\n",
    "# 3) Meça o tempo de multiplicar todos os elementos do array por 2\n",
    "# 4) Meça o tempo de multiplicar todos os elementos da lista por 2\n",
    "# Dica: %time mede o tempo tomado pela execução da linha\n",
    "# Dica: Não precisa importar a biblioteca numpy novamente. \n",
    "#       Ela foi importada na célula 19, acima.\n",
    "\n",
    "my_arr = np.arange(10000000) # Função que cria um array de números sequenciais\n",
    "my_list = list(range(10000000))\n",
    "# %time mede o tempo tomado pela execução da linha\n",
    "%time my_arr2 = my_arr * 2\n",
    "%time my_list2 = [x * 2 for x in my_list]\n",
    "print(my_arr2[1:5])\n",
    "print(my_list2[1:5])"
   ]
  },
  {
   "cell_type": "markdown",
   "metadata": {},
   "source": [
    "### Criando ndarrays"
   ]
  },
  {
   "cell_type": "code",
   "execution_count": 5,
   "metadata": {},
   "outputs": [
    {
     "name": "stdout",
     "output_type": "stream",
     "text": [
      "[6.  7.5 8.  0.  1. ]\n",
      "[[1 2 3 4]\n",
      " [5 6 7 8]]\n",
      "[0. 0. 0. 0. 0.]\n"
     ]
    }
   ],
   "source": [
    "# 1) Crie um array unidimensional a partir da lista [6, 7.5, 8, 0, 1]\n",
    "# 2) Crie um array bidimensional a partir da lista [[1, 2, 3, 4], [5, 6, 7, 8]]\n",
    "# 3) Crie um array unidimensional de zeros\n",
    "\n",
    "data1 = [6, 7.5, 8, 0, 1]\n",
    "arr1 = np.array(data1)\n",
    "print(arr1)\n",
    "data2 = [[1, 2, 3, 4], [5, 6, 7, 8]]\n",
    "arr2 = np.array(data2)\n",
    "print(arr2)\n",
    "print(np.zeros(5)) # Função que cria um array de zeros"
   ]
  },
  {
   "cell_type": "code",
   "execution_count": 6,
   "metadata": {},
   "outputs": [
    {
     "name": "stdout",
     "output_type": "stream",
     "text": [
      "float64\n",
      "(2L, 4L)\n",
      "2\n"
     ]
    }
   ],
   "source": [
    "# 1) Crie o seguinte array arr1 = np.array([6, 7.5, 8, 0, 1])\n",
    "# 2) Imprima o tipo do dado do array arr1\n",
    "# 3) Crie o seguinte array arr2 = np.array([[1, 2, 3, 4], [5, 6, 7, 8]], dtype=np.int32)\n",
    "# 4) Imprima o shape e o número de dimensões do array arr2\n",
    "\n",
    "# O tipo do dado é inferido. Mas também pode ser especificado\n",
    "arr1 = np.array([6, 7.5, 8, 0, 1])\n",
    "print(arr1.dtype) # tipo do dado\n",
    "arr2 = np.array([[1, 2, 3, 4], [5, 6, 7, 8]], dtype=np.int32)\n",
    "print(arr2.shape) # Forma/dimensões do array\n",
    "print(arr2.ndim) # Quantidade de dimensões"
   ]
  },
  {
   "cell_type": "markdown",
   "metadata": {},
   "source": [
    "### Conversão de tipos (cast)"
   ]
  },
  {
   "cell_type": "code",
   "execution_count": 12,
   "metadata": {},
   "outputs": [
    {
     "name": "stdout",
     "output_type": "stream",
     "text": [
      "[ 1.25 -9.6  42.  ]\n",
      "[ 3 -1 -2  0 12 10]\n"
     ]
    }
   ],
   "source": [
    "# 1) Crie o seguinte array num_str = np.array(['1.25', '-9.6', '42'], dtype=np.string_)\n",
    "# 2) Converta-o para o tipo float\n",
    "# 3) Crie o seguinte array arr1 = np.array([3.7, -1.2, -2.6, 0.5, 12.9, 10.1])\n",
    "# 4) Converta-o para o tipo int32\n",
    "\n",
    "num_str = np.array(['1.25', '-9.6', '42'], dtype=np.string_)\n",
    "arr_float = num_str.astype(float) # Converte para float\n",
    "print(arr_float)\n",
    "arr1 = np.array([3.7, -1.2, -2.6, 0.5, 12.9, 10.1])\n",
    "arr1_int = arr1.astype(np.int32) # Converte para int32\n",
    "print(arr1_int)"
   ]
  },
  {
   "cell_type": "markdown",
   "metadata": {},
   "source": [
    "### Aritmética com NumPy Arrays"
   ]
  },
  {
   "cell_type": "code",
   "execution_count": 14,
   "metadata": {},
   "outputs": [
    {
     "name": "stdout",
     "output_type": "stream",
     "text": [
      "[1. 4. 9.]\n",
      "[0. 0. 0.]\n",
      "[1.         0.5        0.33333333]\n",
      "[1.         1.41421356 1.73205081]\n",
      "[ True  True  True]\n"
     ]
    }
   ],
   "source": [
    "# 1) Crie os seguintes arrays arr = np.array([1., 2., 3.]) e arr2 = np.array([4., 5., 6.])\n",
    "# 2) Calcule arr * arr\n",
    "# 3) Calcule arr - arr\n",
    "# 4) Calcule 1 / arr\n",
    "# 5) Calcule a raiz quadrada dos elementos de arr\n",
    "# 6) Calcule arr - arr\n",
    "# 7) Compare os elementos do array arr com os elementos do arr2\n",
    "\n",
    "arr = np.array([1., 2., 3.])\n",
    "arr2 = np.array([4., 5., 6.])\n",
    "print(arr * arr)\n",
    "print(arr - arr)\n",
    "print(1 / arr)\n",
    "print(arr ** 0.5)\n",
    "print(arr2 > arr)"
   ]
  },
  {
   "cell_type": "markdown",
   "metadata": {},
   "source": [
    "### Slicing (fatiar) NumPy Arrays\n",
    "#### Nas listas os slices são cópias\n",
    "#### Nos arrays numpy os slices são views (visualizações)"
   ]
  },
  {
   "cell_type": "code",
   "execution_count": 21,
   "metadata": {},
   "outputs": [
    {
     "name": "stdout",
     "output_type": "stream",
     "text": [
      "[0 1 2 3 4 5 6 7 8 9]\n",
      "[    0     1     2     3     4     5 12345     7     8     9]\n"
     ]
    }
   ],
   "source": [
    "# 1) Crie o seguinte array: arr = np.arange(10)\n",
    "# 2) Guarde na variavel arr_slice os elementos de índice 5 até 8 deste array\n",
    "# 3) Atribua o valor 12345 ao elemento de índice 1 do array arr_slice\n",
    "# 4) Visualize o arr e perceba que o elemento de índice 6 alterou de valor\n",
    "# 5) Crie a seguinte lista: li2 = list(range(10))\n",
    "# 6) Guarde na variavel list_slice os elementos de índice 5 até 8 da lista li2\n",
    "# 7) Atribua o valor 12345 ao elemento de índice 1 da lista list_slice\n",
    "# 8) Visualize a lista li2 e perceba que o elemento de índice 6 alterou de valor\n",
    "\n",
    "arr = np.arange(10)\n",
    "print(arr)\n",
    "arr_slice = arr[5:8]\n",
    "arr_slice[1] = 12345\n",
    "print(arr)\n",
    "li2 = list(range(10)) # Repetindo a operação equivalente com uma lista\n",
    "list_slice = li2[5:8]\n",
    "list_slice[1] = 12345\n",
    "print(li2)"
   ]
  },
  {
   "cell_type": "markdown",
   "metadata": {},
   "source": [
    "### Slicing (fatiar) de arrays bidimensionais"
   ]
  },
  {
   "cell_type": "code",
   "execution_count": 4,
   "metadata": {},
   "outputs": [
    {
     "name": "stdout",
     "output_type": "stream",
     "text": [
      "(3L, 3L)\n",
      "[7 8 9]\n",
      "3\n",
      "3\n"
     ]
    }
   ],
   "source": [
    "# 1) Crie o seguinte array: arr2d = np.array([[1, 2, 3], [4, 5, 6], [7, 8, 9]])\n",
    "# 2) Imprima o shape desse array\n",
    "# 3) Imprima a linha de índice 2 desse array\n",
    "# 4) Imprima o elemento de posição 0,2 desse array, usando as sintaxes com e sem vírgula\n",
    "\n",
    "arr2d = np.array([[1, 2, 3], [4, 5, 6], [7, 8, 9]])\n",
    "print(arr2d.shape)\n",
    "print(arr2d[2])\n",
    "print(arr2d[0][2]) # Tanto faz\n",
    "print(arr2d[0, 2]) # Tanto faz"
   ]
  }
 ],
 "metadata": {
  "kernelspec": {
   "display_name": "Python 3",
   "language": "python",
   "name": "python3"
  },
  "language_info": {
   "codemirror_mode": {
    "name": "ipython",
    "version": 3
   },
   "file_extension": ".py",
   "mimetype": "text/x-python",
   "name": "python",
   "nbconvert_exporter": "python",
   "pygments_lexer": "ipython3",
   "version": "3.6.10"
  }
 },
 "nbformat": 4,
 "nbformat_minor": 4
}
