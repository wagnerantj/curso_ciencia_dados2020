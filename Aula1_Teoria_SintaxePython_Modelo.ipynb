{
 "cells": [
  {
   "cell_type": "markdown",
   "metadata": {},
   "source": [
    "# Aula 1 - Explicações sobre a sintaxe da linguagem Python"
   ]
  },
  {
   "cell_type": "markdown",
   "metadata": {},
   "source": [
    "### Dois pontos sinaliza o início de uma sentença composta\n",
    "#### O conteúdo das sentenças compostas é aninhado com espaços/tabs, sem chaves"
   ]
  },
  {
   "cell_type": "code",
   "execution_count": 2,
   "metadata": {},
   "outputs": [],
   "source": [
    "# 1) Criar uma sentença composta (if else)\n",
    "# 2) Mostrar aninhamento com tabulação\n",
    "# 3) ; é opcional\n",
    "# 4) imprimir valores dentro do if else como feedback"
   ]
  },
  {
   "cell_type": "markdown",
   "metadata": {},
   "source": [
    "### Referências para objetos não possuem um tipo associado\n",
    "#### Não há problema em reatribuir uma referência a outro tipo"
   ]
  },
  {
   "cell_type": "code",
   "execution_count": 3,
   "metadata": {},
   "outputs": [],
   "source": [
    "# 1) Atribuir um número a uma variável, \n",
    "# e em sequencia atribuir um conteúdo de tipo diferente à mesma variável\n",
    "# 2) imprimir os tipos da variável como feedback\n",
    "\n"
   ]
  },
  {
   "cell_type": "markdown",
   "metadata": {},
   "source": [
    "### Funções são declaradas com a palavra-chave def\n",
    "### Argumentos são passados por referência, e não por valor na chamada de funções"
   ]
  },
  {
   "cell_type": "code",
   "execution_count": 5,
   "metadata": {},
   "outputs": [],
   "source": [
    "# 1) criar uma função qualquer (por exemplo, soma 1)\n",
    "# 2) aplicar a função a uma variável\n",
    "# 3) mostrar que os argumentos são passados por referência\n",
    "\n"
   ]
  },
  {
   "cell_type": "markdown",
   "metadata": {},
   "source": [
    "### Formando uma string"
   ]
  },
  {
   "cell_type": "code",
   "execution_count": 4,
   "metadata": {},
   "outputs": [],
   "source": [
    "# 1) Criar uma string a partir de parâmetros\n",
    "\n"
   ]
  },
  {
   "cell_type": "markdown",
   "metadata": {},
   "source": [
    "### Imports\n",
    "#### Um módulo é um arquivo de extensão .py. Útil para reusabilidade de código."
   ]
  },
  {
   "cell_type": "code",
   "execution_count": 6,
   "metadata": {},
   "outputs": [],
   "source": [
    "# O arquivo modulo_exemplo.py está no mesmo diretório deste caderno Jupyter\n",
    "# 1) Importar a função soma1 do modulo_exemplo.py\n",
    "# 2) Aplicar a fórmula soma1 e imprimir o resultado\n",
    "\n"
   ]
  },
  {
   "cell_type": "code",
   "execution_count": 12,
   "metadata": {},
   "outputs": [
    {
     "name": "stdout",
     "output_type": "stream",
     "text": [
      "C:\\Users\\alex\\Google Drive\\Aulas\\Enap\\BootcampTI2020\\Modulo2\\AnaliseDeDados_Teste1\\Aulas\\notebook\\Aula1\n"
     ]
    }
   ],
   "source": [
    "# O módulo \"os\" fornece vários métodos para manipulação de arquivos e diretórios.\n",
    "# O método getcwd (get current work directory) retorna o diretório corrente\n",
    "# 1) Importar o módulo os\n",
    "# 2) Imprimir o diretorio de trabalho (diretorio corrente)\n",
    "\n"
   ]
  },
  {
   "cell_type": "markdown",
   "metadata": {},
   "source": [
    "### Conversão de Tipos\n",
    "#### str, bool, int, e float também são funções para converter valores para esses tipos"
   ]
  },
  {
   "cell_type": "code",
   "execution_count": 7,
   "metadata": {},
   "outputs": [],
   "source": [
    "# 1) Criar uma variavel do tipo string\n",
    "# 2) Converte-la para float\n",
    "# 3) Converter o float resultante para int\n"
   ]
  },
  {
   "cell_type": "markdown",
   "metadata": {},
   "source": [
    "### Laços (loops) do tipo for\n",
    "#### Uma maneira de iterar sobre uma coleção. Usa-se o keyword *in* para referenciar a coleção."
   ]
  },
  {
   "cell_type": "code",
   "execution_count": 8,
   "metadata": {},
   "outputs": [],
   "source": [
    "# 1) Criar uma sequencia de números inteiros contendo o numero 5 em alguma posição\n",
    "# 2) Fazer um laço para ler os valores de forma sequencial e somá-los até encontrar \n",
    "#     o número 5. Não incluir o número 5 na soma.\n",
    "# 3) Imprimir o valor da soma\n",
    "\n",
    "\n"
   ]
  },
  {
   "cell_type": "markdown",
   "metadata": {},
   "source": [
    "# Estrutura de Dados em Python"
   ]
  },
  {
   "cell_type": "markdown",
   "metadata": {},
   "source": [
    "### Lista é uma sequência de tamanho variável e conteúdo mutável (alterável)\n",
    "#### Assim como as tuplas, a lista pode conter objetos de vários tipos. Define-se uma lista com colchetes [ ]\n",
    "#### Use append para inserir elementos, pop para remover elementos pelo índice"
   ]
  },
  {
   "cell_type": "code",
   "execution_count": 9,
   "metadata": {},
   "outputs": [],
   "source": [
    "# 1) Criar uma lista com elementos de diferentes tipos. Exemplo: [2, 4, 0, None]\n",
    "# 2) Adicionar um elemento com o método append\n",
    "# 3) Remover e recuperar o elemento de índice 1\n",
    "# 4) Remover o elemento de valor 0\n",
    "\n"
   ]
  },
  {
   "cell_type": "markdown",
   "metadata": {},
   "source": [
    "### Combinando Listas\n",
    "#### Use o operador + ou a função extend. A função extend é mais rápida do que o operador +"
   ]
  },
  {
   "cell_type": "code",
   "execution_count": 10,
   "metadata": {},
   "outputs": [
    {
     "name": "stdout",
     "output_type": "stream",
     "text": [
      "True\n"
     ]
    }
   ],
   "source": [
    "# 1) Criar uma lista com elementos de diferentes tipos, chamada a1. Ex.: [2, 4, 0, None]\n",
    "# 2) Criar uma nova lista, al_plus, com os elementos de duas listas usando o operador +\n",
    "# 3) Adicionar os elementos de uma outra lista à lista a1\n",
    "# 4) Comparar o conteúdo das duas listas a1 e a1_plus\n",
    "\n"
   ]
  },
  {
   "cell_type": "markdown",
   "metadata": {},
   "source": [
    "### Teste de desempenho  ( curiosidade )"
   ]
  },
  {
   "cell_type": "code",
   "execution_count": 61,
   "metadata": {},
   "outputs": [
    {
     "name": "stdout",
     "output_type": "stream",
     "text": [
      "extend\n"
     ]
    }
   ],
   "source": [
    "\n",
    "print(\"extend\")\n",
    "extend_str = '''everything = []\n",
    "list_of_lists = [[1, 2, 3, 4, 5, 6, 7, 8, 9, 10] for i in range(0,1000)]\n",
    "for chunk in list_of_lists:\n",
    "    everything.extend(chunk)'''\n",
    "\n",
    "t1 = timeit.timeit(extend_str, number=100)  # number representa a qtd de vezes que vai executar o comando"
   ]
  },
  {
   "cell_type": "code",
   "execution_count": 62,
   "metadata": {},
   "outputs": [
    {
     "name": "stdout",
     "output_type": "stream",
     "text": [
      "plus\n"
     ]
    }
   ],
   "source": [
    "import timeit\n",
    "print(\"plus\")\n",
    "plus_str = '''import random\n",
    "everything = []\n",
    "list_of_lists = [[1, 2, 3, 4, 5, 6, 7, 8, 9, 10] for i in range(0,1000)]\n",
    "for chunk in list_of_lists:\n",
    "    everything = everything + chunk'''\n",
    "\n",
    "t2 = timeit.timeit(plus_str, number=100)  # number representa a qtd de vezes que vai executar o comando"
   ]
  },
  {
   "cell_type": "code",
   "execution_count": 63,
   "metadata": {},
   "outputs": [
    {
     "name": "stdout",
     "output_type": "stream",
     "text": [
      "0.0570066999999\n",
      "1.7039272\n",
      "29.8899462695\n"
     ]
    }
   ],
   "source": [
    "print(t1)\n",
    "print(t2)\n",
    "print(t2/t1)"
   ]
  },
  {
   "cell_type": "markdown",
   "metadata": {},
   "source": [
    "### Slicing (fatiar)\n",
    "#### Use intervalos entre colchetes para fatiar sequências"
   ]
  },
  {
   "cell_type": "code",
   "execution_count": 11,
   "metadata": {},
   "outputs": [],
   "source": [
    "# 1) Criar uma lista com vários elementos\n",
    "# 2) Imprimir os elementos de índice 0 a 3 (são os 4 primeiros elementos)\n",
    "# 3) Imprimir os elementos de índice 0 a 4, suprimindo o parametro esquerdo do intervalo\n",
    "# 4) Imprimir os elementos de índice 2 até o último\n",
    "# 5) Imprimir o último elemento\n",
    "# 6) Imprimir a cada dois elementos\n",
    "# 7) Imprimir os elementos espelhados/revertidos\n",
    "# 8) Atribuir uma lista a um slice (uma parte) da lista original\n",
    "\n"
   ]
  },
  {
   "cell_type": "markdown",
   "metadata": {},
   "source": [
    "### Dicionário (dict)\n",
    "### É uma coleção pares de key-value (chave-valor) de tamanho flexível\n",
    "#### O key e o value podem ser qualquer objeto python"
   ]
  },
  {
   "cell_type": "code",
   "execution_count": 4,
   "metadata": {},
   "outputs": [
    {
     "name": "stdout",
     "output_type": "stream",
     "text": [
      "{'ocup': [1, 2], 'ano': 2020, 'fabric': 3, 'tipo': 'carro', 'cor': 1}\n",
      "[1, 2]\n"
     ]
    }
   ],
   "source": [
    "# 1) Criar um dicionário com as seguintes informações de um veículo: \n",
    "#      tipo=carro, ano=2020, ocupacao= 1 e 2\n",
    "# 2) Adicionar um atributo cor=1\n",
    "# 3) Adicionar um atributo fabricante=3\n",
    "# 4) Criar um índice vazio\n",
    "# 5) Imprimir o valor da chave ocupacao\n",
    "\n"
   ]
  },
  {
   "cell_type": "markdown",
   "metadata": {},
   "source": [
    "### Outros métodos relacionados a dicionários"
   ]
  },
  {
   "cell_type": "code",
   "execution_count": 12,
   "metadata": {},
   "outputs": [
    {
     "name": "stdout",
     "output_type": "stream",
     "text": [
      "True\n",
      "['tipo']\n",
      "{'motor': '18c', 'dono': 12, 'tipo': 'carro'}\n"
     ]
    }
   ],
   "source": [
    "# 1) Crie o seguinte dicionário: d1 = {'tipo' : 'carro', 'ano':2020, 'ocup' : [1, 2]} \n",
    "# 2) Teste se 'tipo' está dentre as chaves de d1 \n",
    "# 3) Remova o par identificado por 'ano'\n",
    "# 4) Remova o par identificado por 'ocup' e retorne o seu valor\n",
    "# 5) Imprima a lista de keys\n",
    "# 6) Adicione esses pares {'motor' : '18c', 'dono' : 12} ao dicionário\n",
    "\n"
   ]
  },
  {
   "cell_type": "markdown",
   "metadata": {},
   "source": [
    "## NumPy Arrays\n",
    "### Operações vetorizadas em ndarrays\n",
    "#### Mais eficientes (preferíveis)"
   ]
  },
  {
   "cell_type": "code",
   "execution_count": 12,
   "metadata": {},
   "outputs": [],
   "source": [
    "# 1) Importe a biblioteca numpy e lhe dê o apelido np \n",
    "# 2) Crie um array (data) bidimensional de 2 linhas e 3 colunas de números aleatórios\n",
    "# 3) Multiplique todos os elementos do vetor por 10\n",
    "# 4) Some os elementos do array data a ele mesmo\n",
    "\n"
   ]
  },
  {
   "cell_type": "markdown",
   "metadata": {},
   "source": [
    "### Instruções inline"
   ]
  },
  {
   "cell_type": "code",
   "execution_count": 13,
   "metadata": {},
   "outputs": [],
   "source": [
    "# 1) Escreva uma instrução if else na forma inline\n",
    "# Dica - Sintaxe: valor_se_verdadeiro if condicao else valor_se_falso\n",
    "# 2) Escreva uma instrução de loop (for) na forma inline calculando [1, 4, 9 ... 100]\n",
    "# Dica - Sintaxe: [ OPERACAO_VAL for VAL in SEQUENCIA ]\n",
    "\n"
   ]
  },
  {
   "cell_type": "markdown",
   "metadata": {},
   "source": [
    "### Comparação de Desempenho: Numpy array vs list"
   ]
  },
  {
   "cell_type": "code",
   "execution_count": 15,
   "metadata": {},
   "outputs": [],
   "source": [
    "# 1) Crie um numpy array com 10 milhoes de numeros sequenciais\n",
    "# 2) Crie uma lista 10 milhoes de numeros sequenciais\n",
    "# 3) Meça o tempo de multiplicar todos os elementos do array por 2\n",
    "# 4) Meça o tempo de multiplicar todos os elementos da lista por 2\n",
    "# Dica: %time mede o tempo tomado pela execução da linha\n",
    "# Dica: Não precisa importar a biblioteca numpy novamente. \n",
    "#       Ela foi importada na célula 19, acima.\n",
    "\n"
   ]
  },
  {
   "cell_type": "markdown",
   "metadata": {},
   "source": [
    "### Criando ndarrays"
   ]
  },
  {
   "cell_type": "code",
   "execution_count": 14,
   "metadata": {},
   "outputs": [],
   "source": [
    "# 1) Crie um array unidimensional a partir da lista [6, 7.5, 8, 0, 1]\n",
    "# 2) Crie um array bidimensional a partir da lista [[1, 2, 3, 4], [5, 6, 7, 8]]\n",
    "# 3) Crie um array unidimensional de zeros\n",
    "\n"
   ]
  },
  {
   "cell_type": "code",
   "execution_count": 16,
   "metadata": {},
   "outputs": [],
   "source": [
    "# 1) Crie o seguinte array arr1 = np.array([6, 7.5, 8, 0, 1])\n",
    "# 2) Imprima o tipo do dado do array arr1\n",
    "# 3) Crie o seguinte array arr2 = np.array([[1, 2, 3, 4], [5, 6, 7, 8]], dtype=np.int32)\n",
    "# 4) Imprima o shape e o número de dimensões do array arr2\n",
    "\n"
   ]
  },
  {
   "cell_type": "markdown",
   "metadata": {},
   "source": [
    "### Conversão de tipos (cast)"
   ]
  },
  {
   "cell_type": "code",
   "execution_count": 17,
   "metadata": {},
   "outputs": [],
   "source": [
    "# 1) Crie o seguinte array num_str = np.array(['1.25', '-9.6', '42'], dtype=np.string_)\n",
    "# 2) Converta-o para o tipo float\n",
    "# 3) Crie o seguinte array arr1 = np.array([3.7, -1.2, -2.6, 0.5, 12.9, 10.1])\n",
    "# 4) Converta-o para o tipo int32\n",
    "\n"
   ]
  },
  {
   "cell_type": "markdown",
   "metadata": {},
   "source": [
    "### Aritmética com NumPy Arrays"
   ]
  },
  {
   "cell_type": "code",
   "execution_count": 18,
   "metadata": {},
   "outputs": [],
   "source": [
    "# 1) Crie os seguintes arrays arr = np.array([1., 2., 3.]) e arr2 = np.array([4., 5., 6.])\n",
    "# 2) Calcule arr * arr\n",
    "# 3) Calcule arr - arr\n",
    "# 4) Calcule 1 / arr\n",
    "# 5) Calcule a raiz quadrada dos elementos de arr\n",
    "# 6) Calcule arr - arr\n",
    "# 7) Compare os elementos do array arr com os elementos do arr2\n"
   ]
  },
  {
   "cell_type": "markdown",
   "metadata": {},
   "source": [
    "### Slicing (fatiar) NumPy Arrays\n",
    "#### Nas listas os slices são cópias\n",
    "#### Nos arrays numpy os slices são views (visualizações)"
   ]
  },
  {
   "cell_type": "code",
   "execution_count": 19,
   "metadata": {},
   "outputs": [],
   "source": [
    "# 1) Crie o seguinte array: arr = np.arange(10)\n",
    "# 2) Guarde na variavel arr_slice os elementos de índice 5 até 8 deste array\n",
    "# 3) Atribua o valor 12345 ao elemento de índice 1 do array arr_slice\n",
    "# 4) Visualize o arr e perceba que o elemento de índice 6 alterou de valor\n",
    "# 5) Crie a seguinte lista: li2 = list(range(10))\n",
    "# 6) Guarde na variavel list_slice os elementos de índice 5 até 8 da lista li2\n",
    "# 7) Atribua o valor 12345 ao elemento de índice 1 da lista list_slice\n",
    "# 8) Visualize a lista li2 e perceba que o elemento de índice 6 alterou de valor\n",
    "\n"
   ]
  },
  {
   "cell_type": "markdown",
   "metadata": {},
   "source": [
    "### Slicing (fatiar) de arrays bidimensionais"
   ]
  },
  {
   "cell_type": "code",
   "execution_count": 21,
   "metadata": {},
   "outputs": [],
   "source": [
    "# 1) Crie o seguinte array: arr2d = np.array([[1, 2, 3], [4, 5, 6], [7, 8, 9]])\n",
    "# 2) Imprima o shape desse array\n",
    "# 3) Imprima a linha de índice 2 desse array\n",
    "# 4) Imprima o elemento de posição 0,2 desse array, usando as sintaxes com e sem vírgula\n",
    "\n"
   ]
  }
 ],
 "metadata": {
  "kernelspec": {
   "display_name": "Python 3",
   "language": "python",
   "name": "python3"
  },
  "language_info": {
   "codemirror_mode": {
    "name": "ipython",
    "version": 3
   },
   "file_extension": ".py",
   "mimetype": "text/x-python",
   "name": "python",
   "nbconvert_exporter": "python",
   "pygments_lexer": "ipython3",
   "version": "3.6.10"
  }
 },
 "nbformat": 4,
 "nbformat_minor": 4
}
