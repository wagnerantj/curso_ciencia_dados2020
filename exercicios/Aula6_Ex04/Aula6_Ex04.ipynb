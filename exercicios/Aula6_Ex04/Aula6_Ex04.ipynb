{
 "cells": [
  {
   "cell_type": "markdown",
   "metadata": {},
   "source": [
    "# Aula 6 - Exercícios - Gráficos\n",
    "### Consulta a internet (Google, Stackoverflow e etc) liberada!!"
   ]
  },
  {
   "cell_type": "code",
   "execution_count": 1,
   "metadata": {},
   "outputs": [],
   "source": [
    "# Importe a biblioteca pandas\n",
    "import pandas as pd\n",
    "import seaborn as sns\n",
    "sns.set() # Ajusta valor padrão de tema, escala e paleta de cor\n"
   ]
  },
  {
   "cell_type": "markdown",
   "metadata": {},
   "source": [
    "### 6.4 Plote um gráfico boxplot da coluna Valor_total de 5 municípios do dataset de Morbidade do Datasus. Os municípios a serem plotados são aqueles que obtiveram o maior custo médio diário de internação em todo o brasil. \n",
    "#### Esta métrica de custo médio diário de internação foi calculada no exercício 5.5 e 5.6. Use um argumento aspect=2 para o gráfico não sobrepor os nomes das cidades.\n"
   ]
  },
  {
   "cell_type": "markdown",
   "metadata": {},
   "source": [
    "#### Dica 1: Antes de tentar plotar o gráfico, escreva algumas sentenças de código usando operações do pandas para encontrar quais são esses 5 municípios.\n",
    "#### Dica 2: Depois de encontrar o codigo IBGE desses 5 municípios, faça um filtro no dataframe dos dados de morbidade e plote o boxplot desses 5 municípios."
   ]
  },
  {
   "cell_type": "code",
   "execution_count": 2,
   "metadata": {
    "nbgrader": {
     "grade": true,
     "grade_id": "cell-553em5248eb14bc30",
     "locked": false,
     "points": 1,
     "schema_version": 3,
     "solution": true,
     "task": false
    }
   },
   "outputs": [],
   "source": [
    "# Plote aqui seu gráfico\n",
    "import pandas as pd\n",
    "import numpy as np\n",
    "import seaborn as sns\n",
    "sns.set() # Ajusta valor padrão de tema, escala e paleta de cor\n",
    "\n",
    "%run ../Aula5_Ex05/Aula5_Ex05.ipynb\n",
    "%run ../Aula5_Ex06/Aula5_Ex06.ipynb\n",
    "\n"
   ]
  }
 ],
 "metadata": {
  "celltoolbar": "Create Assignment",
  "kernelspec": {
   "display_name": "Python 3",
   "language": "python",
   "name": "python3"
  },
  "language_info": {
   "codemirror_mode": {
    "name": "ipython",
    "version": 3
   },
   "file_extension": ".py",
   "mimetype": "text/x-python",
   "name": "python",
   "nbconvert_exporter": "python",
   "pygments_lexer": "ipython3",
   "version": "3.6.10"
  }
 },
 "nbformat": 4,
 "nbformat_minor": 4
}
